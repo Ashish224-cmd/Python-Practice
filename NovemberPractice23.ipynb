{
 "cells": [
  {
   "cell_type": "code",
   "execution_count": 5,
   "id": "65630c39",
   "metadata": {},
   "outputs": [
    {
     "name": "stdout",
     "output_type": "stream",
     "text": [
      "6\n",
      "20\n",
      "-336\n"
     ]
    }
   ],
   "source": [
    "def max_of_two(x,y):\n",
    "        if x>y:\n",
    "            return x\n",
    "        return y\n",
    "def max_of_three(x,y,z):\n",
    "        return max_of_two(x,max_of_two(y,z))\n",
    "print(max_of_three(3,6,-5))\n",
    "def sum(numbers):\n",
    "    total = 0\n",
    "    for x in numbers:\n",
    "        total += x\n",
    "    return total\n",
    "print(sum((8,2,3,0,7))) \n",
    "def multi(numbers):\n",
    "    total = 1\n",
    "    for x in numbers:\n",
    "        total *= x\n",
    "    return total\n",
    "print(multi((8,2,3,-1,7)))"
   ]
  },
  {
   "cell_type": "code",
   "execution_count": 7,
   "id": "fcdf7d2b",
   "metadata": {},
   "outputs": [
    {
     "name": "stdout",
     "output_type": "stream",
     "text": [
      "gfdsa4321\n"
     ]
    }
   ],
   "source": [
    "def string_reverse(str1):\n",
    "    rstr1 = ''\n",
    "    index = len(str1)\n",
    "    while index > 0:\n",
    "        rstr1 += str1[index-1]\n",
    "        index = index-1\n",
    "    return rstr1\n",
    "print(string_reverse('1234asdfg'))\n",
    "def factorial(n):\n",
    "    if n==0"
   ]
  },
  {
   "cell_type": "code",
   "execution_count": null,
   "id": "14e0f548",
   "metadata": {},
   "outputs": [],
   "source": [
    " "
   ]
  }
 ],
 "metadata": {
  "kernelspec": {
   "display_name": "Python 3 (ipykernel)",
   "language": "python",
   "name": "python3"
  },
  "language_info": {
   "codemirror_mode": {
    "name": "ipython",
    "version": 3
   },
   "file_extension": ".py",
   "mimetype": "text/x-python",
   "name": "python",
   "nbconvert_exporter": "python",
   "pygments_lexer": "ipython3",
   "version": "3.9.12"
  }
 },
 "nbformat": 4,
 "nbformat_minor": 5
}
