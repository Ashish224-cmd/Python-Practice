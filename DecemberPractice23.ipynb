{
 "cells": [
  {
   "cell_type": "code",
   "execution_count": null,
   "id": "9a861b3f",
   "metadata": {},
   "outputs": [],
   "source": [
    "n=int(input())\n",
    "for i in range(1,11):\n",
    "    print(str(n)+\"X\"+str(i)+\"=\"+str(n*i))"
   ]
  },
  {
   "cell_type": "code",
   "execution_count": null,
   "id": "b6fabef1",
   "metadata": {},
   "outputs": [],
   "source": [
    "import ast\n",
    "color =\"['Red','Green','White']\"\n",
    "print(ast.literal_eval(color))"
   ]
  },
  {
   "cell_type": "code",
   "execution_count": null,
   "id": "c0d7f96b",
   "metadata": {},
   "outputs": [],
   "source": [
    "color1 = [\"green\",\"orange\",\"black\",\"white\"]\n",
    "color2 = [\"green\",\"green\",\"green\",\"green\"]\n",
    "print(all(c=='blue' for c in color1))\n",
    "print(all(c=='green' for c in color2))"
   ]
  },
  {
   "cell_type": "code",
   "execution_count": null,
   "id": "70162d1f",
   "metadata": {},
   "outputs": [
    {
     "name": "stdout",
     "output_type": "stream",
     "text": [
      "35\n",
      "19\n",
      "You are old.\n",
      "You are old.\n",
      "\n",
      "2\n",
      "You are young\n",
      "You are young\n",
      "\n"
     ]
    }
   ],
   "source": [
    "class Person:\n",
    "    def __init__(self,initialAge):\n",
    "        if initialAge>0:\n",
    "            self.age=initialAge\n",
    "        else:\n",
    "            print(\"Age is not valid,setting age to 0.\")\n",
    "            self.age=0\n",
    "            \n",
    "    def amIOld(self):\n",
    "        if self.age<13:\n",
    "            print(\"You are young\")\n",
    "        elif self.age<18:\n",
    "            print(\"You are a teenager.\")\n",
    "        else:\n",
    "            print(\"You are old.\")\n",
    "            \n",
    "    def yearPasses(self):\n",
    "        self.age+=1\n",
    "\n",
    "t=int(input())\n",
    "for i in range(0,t):\n",
    "    age=int(input())\n",
    "    p=Person(age)\n",
    "    p.amIOld()\n",
    "    for j in range(0,3):\n",
    "        p.yearPasses()\n",
    "    p.amIOld()\n",
    "    print(\"\")\n",
    "            "
   ]
  },
  {
   "cell_type": "code",
   "execution_count": null,
   "id": "cc4f24f7",
   "metadata": {},
   "outputs": [],
   "source": []
  },
  {
   "cell_type": "code",
   "execution_count": null,
   "id": "80dc968f",
   "metadata": {},
   "outputs": [],
   "source": [
    "num1 = [1,3,5,7,9,10]\n",
    "num2 = [2,4,6,8]\n",
    "num1[-1:] = num2\n",
    "print(num1)"
   ]
  },
  {
   "cell_type": "code",
   "execution_count": null,
   "id": "5a72d08c",
   "metadata": {},
   "outputs": [],
   "source": [
    "x = [1,2,3,4,5,6]\n",
    "xlen = len(x)-1\n",
    "print(x[xlen])"
   ]
  },
  {
   "cell_type": "code",
   "execution_count": null,
   "id": "0622296a",
   "metadata": {},
   "outputs": [],
   "source": [
    "thislist = list((\"apple\",\"banana\",\"cherry\"))\n",
    "print(thislist)"
   ]
  },
  {
   "cell_type": "code",
   "execution_count": null,
   "id": "eade66fe",
   "metadata": {},
   "outputs": [],
   "source": [
    "def factorial(n):\n",
    "    if n== 0:\n",
    "        return 1\n",
    "    else:\n",
    "        return n*factorial(n-1)\n",
    "n=int(input(\"input a number to compute the factorial: \"))\n",
    "print(factorial(n))"
   ]
  },
  {
   "cell_type": "code",
   "execution_count": null,
   "id": "73f4e329",
   "metadata": {},
   "outputs": [],
   "source": [
    "def test_range(n):\n",
    "    if n in range(3,9):\n",
    "        print(\" %s is in the range\"%str(n))\n",
    "    else:\n",
    "        print(\"The number is outside the given range.\")\n",
    "test_range(45)        \n",
    "        "
   ]
  },
  {
   "cell_type": "code",
   "execution_count": null,
   "id": "c93456ab",
   "metadata": {},
   "outputs": [],
   "source": []
  }
 ],
 "metadata": {
  "kernelspec": {
   "display_name": "Python 3 (ipykernel)",
   "language": "python",
   "name": "python3"
  },
  "language_info": {
   "codemirror_mode": {
    "name": "ipython",
    "version": 3
   },
   "file_extension": ".py",
   "mimetype": "text/x-python",
   "name": "python",
   "nbconvert_exporter": "python",
   "pygments_lexer": "ipython3",
   "version": "3.9.12"
  }
 },
 "nbformat": 4,
 "nbformat_minor": 5
}
