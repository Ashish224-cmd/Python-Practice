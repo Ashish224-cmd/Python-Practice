{
 "cells": [
  {
   "cell_type": "code",
   "execution_count": 21,
   "id": "5995d9c7",
   "metadata": {},
   "outputs": [
    {
     "name": "stdout",
     "output_type": "stream",
     "text": [
      "This is printed first\n",
      "1\n"
     ]
    }
   ],
   "source": [
    "def my_gen():\n",
    "    n=1\n",
    "    print(\"This is printed first\")\n",
    "    yield n\n",
    "    n+=1\n",
    "    \n",
    "x=my_gen()\n",
    "print(x.__next__())"
   ]
  },
  {
   "cell_type": "code",
   "execution_count": 20,
   "id": "bd4ff360",
   "metadata": {},
   "outputs": [
    {
     "name": "stdout",
     "output_type": "stream",
     "text": [
      "I got decorated\n",
      "I am ordinary\n"
     ]
    }
   ],
   "source": [
    "def make_pretty(fun):\n",
    "    def inner():\n",
    "        print(\"I got decorated\")\n",
    "        fun()\n",
    "    return inner\n",
    "\n",
    "@make_pretty\n",
    "def ordinary():\n",
    "    print(\"I am ordinary\")\n",
    "    \n",
    "ordinary()\n",
    "\n",
    "\n"
   ]
  },
  {
   "cell_type": "code",
   "execution_count": 15,
   "id": "1852cfc8",
   "metadata": {},
   "outputs": [
    {
     "name": "stdout",
     "output_type": "stream",
     "text": [
      "I am ordinary\n",
      "I got decorated\n",
      "I am ordinary\n"
     ]
    }
   ],
   "source": [
    "def make_pretty(fun):\n",
    "    def inner():\n",
    "        print(\"I got decorated\")\n",
    "        fun()\n",
    "    return inner\n",
    "\n",
    "def ordinary():\n",
    "    print(\"I am ordinary\")\n",
    "ordinary()\n",
    "pretty = make_pretty(ordinary)\n",
    "pretty()\n",
    "    "
   ]
  },
  {
   "cell_type": "code",
   "execution_count": 14,
   "id": "6e624933",
   "metadata": {},
   "outputs": [
    {
     "name": "stdout",
     "output_type": "stream",
     "text": [
      "A list: abc\n",
      "B list: Heyram\n",
      "[123, 'Heyram', 'abc', 'xyz']\n"
     ]
    }
   ],
   "source": [
    "alist = [123,'xyz','Heyram','abc']\n",
    "print(\"A list:\",alist.pop())\n",
    "print(\"B list:\",alist.pop(2))\n",
    "alist1 = [123,'xyz','Heyram','abc','xyz']\n",
    "alist1.remove('xyz')\n",
    "print(alist1)"
   ]
  },
  {
   "cell_type": "code",
   "execution_count": null,
   "id": "6b7a8c4f",
   "metadata": {},
   "outputs": [
    {
     "name": "stdout",
     "output_type": "stream",
     "text": [
      "List1: ['xyz', 'abc', 'Heyram', 'xyz', 123]\n",
      "list2: [345, 123, 89, 67, 45, 23]\n"
     ]
    }
   ],
   "source": [
    "alist1 = [123,'xyz','Heyram','abc','xyz']\n",
    "alist1.reverse()\n",
    "print(\"List1:\",alist1)\n",
    "\n",
    "alist2 = [123,45,67,345,23,89]\n",
    "alist2.sort() \n",
    "alist2.reverse()\n",
    "print(\"list2:\",alist2)"
   ]
  },
  {
   "cell_type": "code",
   "execution_count": 5,
   "id": "4c546fe5",
   "metadata": {},
   "outputs": [
    {
     "name": "stdout",
     "output_type": "stream",
     "text": [
      "First method:\n",
      "[6, 8, 2, 4]\n",
      "Using list comprehension method:\n",
      "odd elements: [3, 7, 9, 23, 75, 23, 123, 67]\n",
      "Set comprehension:\n",
      "{1, 2, 3, 4}\n"
     ]
    }
   ],
   "source": [
    "a = [3,6,7,8,9,2,4,23,75,23,123,67]\n",
    "b = []\n",
    "print(\"First method:\")\n",
    "for item in a:\n",
    "    if(item%2==0):\n",
    "        b.append(item)\n",
    "print(b)\n",
    "print(\"Using list comprehension method:\")\n",
    "c = [i for i in a if i%2==1]\n",
    "print(\"odd elements:\",c)\n",
    "print(\"Set comprehension:\")\n",
    "t = [1,4,2,4,1,2,3]\n",
    "s = {i for i in t}\n",
    "print(s)"
   ]
  },
  {
   "cell_type": "code",
   "execution_count": 2,
   "id": "fd2346b0",
   "metadata": {},
   "outputs": [
    {
     "name": "stdout",
     "output_type": "stream",
     "text": [
      "[7, 14, 21, 28, 35, 42, 49, 56, 63, 70]\n"
     ]
    }
   ],
   "source": [
    "n = int(input(\"Enter the Number:\"))\n",
    "table = [n*i for i in range(1,11)]\n",
    "print(table)"
   ]
  }
 ],
 "metadata": {
  "kernelspec": {
   "display_name": "Python 3",
   "language": "python",
   "name": "python3"
  },
  "language_info": {
   "codemirror_mode": {
    "name": "ipython",
    "version": 3
   },
   "file_extension": ".py",
   "mimetype": "text/x-python",
   "name": "python",
   "nbconvert_exporter": "python",
   "pygments_lexer": "ipython3",
   "version": "3.13.1"
  }
 },
 "nbformat": 4,
 "nbformat_minor": 5
}
